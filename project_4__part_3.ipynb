{
  "nbformat": 4,
  "nbformat_minor": 0,
  "metadata": {
    "colab": {
      "provenance": [],
      "mount_file_id": "1EzUfam4YPRyeSquowjTzWJsHwCn8ZJSa",
      "authorship_tag": "ABX9TyN6KZCEgypVfOc3Xiqc5jPW",
      "include_colab_link": true
    },
    "kernelspec": {
      "name": "python3",
      "display_name": "Python 3"
    },
    "language_info": {
      "name": "python"
    }
  },
  "cells": [
    {
      "cell_type": "markdown",
      "metadata": {
        "id": "view-in-github",
        "colab_type": "text"
      },
      "source": [
        "<a href=\"https://colab.research.google.com/github/othinAbbey/Project-4/blob/main/project_4__part_3.ipynb\" target=\"_parent\"><img src=\"https://colab.research.google.com/assets/colab-badge.svg\" alt=\"Open In Colab\"/></a>"
      ]
    },
    {
      "cell_type": "markdown",
      "source": [
        "#  Import Libraries"
      ],
      "metadata": {
        "id": "55m-cmWRpfsM"
      }
    },
    {
      "cell_type": "code",
      "source": [
        "!pip install --upgrade pip"
      ],
      "metadata": {
        "colab": {
          "base_uri": "https://localhost:8080/"
        },
        "id": "8maiCVNysL8G",
        "outputId": "11692574-97e5-459a-8794-2ff6011bea46"
      },
      "execution_count": null,
      "outputs": [
        {
          "output_type": "stream",
          "name": "stdout",
          "text": [
            "Requirement already satisfied: pip in /usr/local/lib/python3.10/dist-packages (23.1.2)\n",
            "Collecting pip\n",
            "  Downloading pip-24.0-py3-none-any.whl (2.1 MB)\n",
            "\u001b[2K     \u001b[90m━━━━━━━━━━━━━━━━━━━━━━━━━━━━━━━━━━━━━━━━\u001b[0m \u001b[32m2.1/2.1 MB\u001b[0m \u001b[31m9.8 MB/s\u001b[0m eta \u001b[36m0:00:00\u001b[0m\n",
            "\u001b[?25hInstalling collected packages: pip\n",
            "  Attempting uninstall: pip\n",
            "    Found existing installation: pip 23.1.2\n",
            "    Uninstalling pip-23.1.2:\n",
            "      Successfully uninstalled pip-23.1.2\n",
            "Successfully installed pip-24.0\n"
          ]
        }
      ]
    },
    {
      "cell_type": "code",
      "source": [
        "import numpy as np\n",
        "import pandas as pd\n",
        "import tensorflow as tf\n",
        "from tensorflow.keras.models import Sequential\n",
        "from tensorflow.keras.layers import Dense, Dropout\n",
        "from tensorflow.keras.callbacks import EarlyStopping\n",
        "from sklearn.metrics import confusion_matrix, classification_report\n",
        "from sklearn.model_selection import train_test_split\n",
        "import matplotlib.pyplot as plt\n",
        "import seaborn as sns\n",
        "from keras_tuner import RandomSearch\n"
      ],
      "metadata": {
        "id": "24k4msDgpm4q"
      },
      "execution_count": null,
      "outputs": []
    },
    {
      "cell_type": "markdown",
      "source": [
        "## Step 2: Prepare the Data"
      ],
      "metadata": {
        "id": "EoS6wjB7qgah"
      }
    },
    {
      "cell_type": "code",
      "source": [
        "# Load your data here\n",
        "# For illustration, let's use the Iris dataset\n",
        "from sklearn.datasets import load_iris\n",
        "\n",
        "data = load_iris()\n",
        "X = data.data\n",
        "y = data.target\n",
        "\n",
        "# Split the data into train and test sets\n",
        "X_train, X_test, y_train, y_test = train_test_split(X, y, test_size=0.2, random_state=42)\n"
      ],
      "metadata": {
        "id": "XnQosNPFqfLb"
      },
      "execution_count": null,
      "outputs": []
    },
    {
      "cell_type": "markdown",
      "source": [
        "# Step 3: Build and Compile the Neural Network"
      ],
      "metadata": {
        "id": "AAvXy-WCqs0K"
      }
    },
    {
      "cell_type": "code",
      "source": [
        "def build_model():\n",
        "    model = Sequential()\n",
        "    model.add(Dense(64, activation='relu', input_shape=(X_train.shape[1],)))\n",
        "    model.add(Dropout(0.5))\n",
        "    # Ensure the final layer is appropriate for your task (number of units and activation function).\n",
        "    model.add(Dense(3, activation='softmax'))\n",
        "\n",
        "    model.compile(optimizer='adam',\n",
        "                  loss='sparse_categorical_crossentropy',\n",
        "                  metrics=['accuracy'])\n",
        "    return model\n",
        "\n",
        "model = build_model()\n"
      ],
      "metadata": {
        "id": "3gSdZ_U0quE-"
      },
      "execution_count": null,
      "outputs": []
    },
    {
      "cell_type": "markdown",
      "source": [
        "# Step 4: Fit the Model with Early Stopping"
      ],
      "metadata": {
        "id": "LfY3ZDRWqy3y"
      }
    },
    {
      "cell_type": "code",
      "source": [
        "early_stopping = EarlyStopping(monitor='val_accuracy', patience=5, restore_best_weights=True)\n",
        "\n",
        "history = model.fit(X_train, y_train,\n",
        "                    # Fit it for 50 epochs\n",
        "                    epochs=50,\n",
        "                    # Use a validation_split of .2\n",
        "                    validation_split=0.2,\n",
        "                    callbacks=[early_stopping])\n"
      ],
      "metadata": {
        "id": "LwL9QYeVq2Nq"
      },
      "execution_count": null,
      "outputs": []
    },
    {
      "cell_type": "markdown",
      "source": [
        "# Step 5: Visualize Training History"
      ],
      "metadata": {
        "id": "7Ul93bKUq4r8"
      }
    },
    {
      "cell_type": "code",
      "source": [
        "# Plot training & validation accuracy values\n",
        "plt.plot(history.history['accuracy'])\n",
        "plt.plot(history.history['val_accuracy'])\n",
        "plt.title('Model accuracy')\n",
        "plt.ylabel('Accuracy')\n",
        "plt.xlabel('Epoch')\n",
        "plt.legend(['Train', 'Validation'], loc='upper left')\n",
        "plt.show()\n",
        "\n",
        "# Plot training & validation loss values\n",
        "plt.plot(history.history['loss'])\n",
        "plt.plot(history.history['val_loss'])\n",
        "plt.title('Model loss')\n",
        "plt.ylabel('Loss')\n",
        "plt.xlabel('Epoch')\n",
        "plt.legend(['Train', 'Validation'], loc='upper left')\n",
        "plt.show()\n"
      ],
      "metadata": {
        "id": "QecuasWrq9e4"
      },
      "execution_count": null,
      "outputs": []
    },
    {
      "cell_type": "markdown",
      "source": [
        "# Step 6: Evaluate the Model"
      ],
      "metadata": {
        "id": "vOpkldpdrA8-"
      }
    },
    {
      "cell_type": "code",
      "source": [
        "# Evaluate on test data\n",
        "y_pred = np.argmax(model.predict(X_test), axis=1)\n",
        "\n",
        "# Confusion Matrix\n",
        "conf_matrix = confusion_matrix(y_test, y_pred)\n",
        "sns.heatmap(conf_matrix, annot=True, fmt='d')\n",
        "plt.title('Confusion Matrix')\n",
        "plt.ylabel('Actual')\n",
        "plt.xlabel('Predicted')\n",
        "plt.show()\n",
        "\n",
        "# Classification Report\n",
        "print(classification_report(y_test, y_pred, target_names=data.target_names))\n"
      ],
      "metadata": {
        "id": "fxsy87fOrCCF"
      },
      "execution_count": null,
      "outputs": []
    },
    {
      "cell_type": "markdown",
      "source": [
        "# Step 7: Hyperparameter Tuning with Keras Tuner"
      ],
      "metadata": {
        "id": "iczgdS9PrIq9"
      }
    },
    {
      "cell_type": "code",
      "source": [
        "!pip install keras-tuner"
      ],
      "metadata": {
        "colab": {
          "base_uri": "https://localhost:8080/"
        },
        "id": "B0ysLXwur2ft",
        "outputId": "ba35b212-f9d4-4863-a63e-35f38a87741b"
      },
      "execution_count": null,
      "outputs": [
        {
          "output_type": "stream",
          "name": "stdout",
          "text": [
            "Collecting keras-tuner\n",
            "  Downloading keras_tuner-1.4.7-py3-none-any.whl.metadata (5.4 kB)\n",
            "Requirement already satisfied: keras in /usr/local/lib/python3.10/dist-packages (from keras-tuner) (2.15.0)\n",
            "Requirement already satisfied: packaging in /usr/local/lib/python3.10/dist-packages (from keras-tuner) (24.1)\n",
            "Requirement already satisfied: requests in /usr/local/lib/python3.10/dist-packages (from keras-tuner) (2.31.0)\n",
            "Collecting kt-legacy (from keras-tuner)\n",
            "  Downloading kt_legacy-1.0.5-py3-none-any.whl.metadata (221 bytes)\n",
            "Requirement already satisfied: charset-normalizer<4,>=2 in /usr/local/lib/python3.10/dist-packages (from requests->keras-tuner) (3.3.2)\n",
            "Requirement already satisfied: idna<4,>=2.5 in /usr/local/lib/python3.10/dist-packages (from requests->keras-tuner) (3.7)\n",
            "Requirement already satisfied: urllib3<3,>=1.21.1 in /usr/local/lib/python3.10/dist-packages (from requests->keras-tuner) (2.0.7)\n",
            "Requirement already satisfied: certifi>=2017.4.17 in /usr/local/lib/python3.10/dist-packages (from requests->keras-tuner) (2024.6.2)\n",
            "Downloading keras_tuner-1.4.7-py3-none-any.whl (129 kB)\n",
            "\u001b[2K   \u001b[90m━━━━━━━━━━━━━━━━━━━━━━━━━━━━━━━━━━━━━━━━\u001b[0m \u001b[32m129.1/129.1 kB\u001b[0m \u001b[31m3.7 MB/s\u001b[0m eta \u001b[36m0:00:00\u001b[0m\n",
            "\u001b[?25hDownloading kt_legacy-1.0.5-py3-none-any.whl (9.6 kB)\n",
            "Installing collected packages: kt-legacy, keras-tuner\n",
            "Successfully installed keras-tuner-1.4.7 kt-legacy-1.0.5\n",
            "\u001b[33mWARNING: Running pip as the 'root' user can result in broken permissions and conflicting behaviour with the system package manager. It is recommended to use a virtual environment instead: https://pip.pypa.io/warnings/venv\u001b[0m\u001b[33m\n",
            "\u001b[0m"
          ]
        }
      ]
    },
    {
      "cell_type": "code",
      "source": [
        "from keras_tuner import HyperParameters as hp\n",
        "import keras_tuner as kt\n",
        "from keras_tuner import RandomSearch\n",
        "\n",
        "\n",
        "# Use the Early Stopping callback\n",
        "# Start with patience =5 monitoring val_accuracy.\n",
        "early_stopping = EarlyStopping(monitor='val_accuracy', patience=5)\n",
        "\n",
        "def build_tuned_model(hp):\n",
        "    model = Sequential()\n",
        "    model.add(Dense(hp.Int('units', min_value=32, max_value=512, step=32), activation='relu', input_shape=(X_train.shape[1],)))\n",
        "    model.add(Dropout(hp.Float('dropout_rate', min_value=0.1, max_value=0.5, step=0.1)))\n",
        "    model.add(Dense(3, activation='softmax'))  # Adjust according to your task\n",
        "\n",
        "    model.compile(optimizer=hp.Choice('optimizer', values=['adam', 'rmsprop']),\n",
        "                  loss='sparse_categorical_crossentropy',\n",
        "                  metrics=['accuracy'])\n",
        "    return model\n",
        "\n",
        "tuner = RandomSearch(build_tuned_model,\n",
        "                     objective='val_accuracy',\n",
        "                     max_trials=10,\n",
        "                     executions_per_trial=3,\n",
        "                     directory='my_dir',\n",
        "                     project_name='intro_to_kt')\n",
        "\n",
        "tuner.search(X_train, y_train, epochs=50, validation_split=0.2, callbacks=[early_stopping])\n",
        "\n",
        "# Get the optimal hyperparameters\n",
        "best_hps = tuner.get_best_hyperparameters()[0]\n",
        "\n",
        "# Build the model with the optimal hyperparameters and train it\n",
        "model = tuner.hypermodel.build(best_hps)\n",
        "history = model.fit(X_train, y_train, epochs=50, validation_split=0.2, callbacks=[early_stopping])\n"
      ],
      "metadata": {
        "colab": {
          "base_uri": "https://localhost:8080/"
        },
        "id": "TaoLxkvBrJqe",
        "outputId": "8927a1e9-28de-417c-af15-071205671cc0"
      },
      "execution_count": null,
      "outputs": [
        {
          "output_type": "stream",
          "name": "stdout",
          "text": [
            "Reloading Tuner from my_dir/intro_to_kt/tuner0.json\n",
            "Epoch 1/50\n",
            "3/3 [==============================] - 3s 397ms/step - loss: 1.0885 - accuracy: 0.4271 - val_loss: 1.0575 - val_accuracy: 0.5000\n",
            "Epoch 2/50\n",
            "3/3 [==============================] - 0s 82ms/step - loss: 0.9127 - accuracy: 0.6667 - val_loss: 0.9072 - val_accuracy: 0.5000\n",
            "Epoch 3/50\n",
            "3/3 [==============================] - 0s 39ms/step - loss: 0.8459 - accuracy: 0.7292 - val_loss: 0.7831 - val_accuracy: 0.7083\n",
            "Epoch 4/50\n",
            "3/3 [==============================] - 0s 80ms/step - loss: 0.7829 - accuracy: 0.6667 - val_loss: 0.7323 - val_accuracy: 0.7083\n",
            "Epoch 5/50\n",
            "3/3 [==============================] - 0s 80ms/step - loss: 0.7280 - accuracy: 0.6979 - val_loss: 0.7255 - val_accuracy: 0.6667\n",
            "Epoch 6/50\n",
            "3/3 [==============================] - 0s 75ms/step - loss: 0.6793 - accuracy: 0.7188 - val_loss: 0.7567 - val_accuracy: 0.5000\n",
            "Epoch 7/50\n",
            "3/3 [==============================] - 0s 69ms/step - loss: 0.6465 - accuracy: 0.7708 - val_loss: 0.6731 - val_accuracy: 0.7083\n",
            "Epoch 8/50\n",
            "3/3 [==============================] - 0s 58ms/step - loss: 0.6161 - accuracy: 0.7917 - val_loss: 0.6960 - val_accuracy: 0.5000\n"
          ]
        }
      ]
    },
    {
      "cell_type": "markdown",
      "source": [
        "# Step 8: Evaluate the Tuned Model"
      ],
      "metadata": {
        "id": "Zr0GEPKJrT8O"
      }
    },
    {
      "cell_type": "code",
      "source": [
        "# Evaluate the tuned model on test data\n",
        "y_pred = np.argmax(model.predict(X_test), axis=1)\n",
        "\n",
        "# Confusion Matrix\n",
        "conf_matrix = confusion_matrix(y_test, y_pred)\n",
        "sns.heatmap(conf_matrix, annot=True, fmt='d')\n",
        "plt.title('Confusion Matrix')\n",
        "plt.ylabel('Actual')\n",
        "plt.xlabel('Predicted')\n",
        "plt.show()\n",
        "\n",
        "# Classification Report\n",
        "print(classification_report(y_test, y_pred, target_names=data.target_names))\n"
      ],
      "metadata": {
        "id": "z4ZwvtB3rWuu"
      },
      "execution_count": null,
      "outputs": []
    }
  ]
}